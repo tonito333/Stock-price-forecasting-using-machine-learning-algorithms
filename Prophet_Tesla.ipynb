<!DOCTYPE html>
<html>
<head>
  <meta charset="utf-8">
  <meta name="viewport" content="width=device-width, initial-scale=1">
  <title>Jupyter Notebook - Notebook</title>
  
  <link rel="icon" type="image/x-icon" href="/static/favicons/favicon-notebook.ico" class="favicon">
  

  
  <link rel="stylesheet" type="text/css" href="/custom/custom.css">
  
</head>
<body data-notebook="notebooks">

  
  

  
  

  
  

  <script id="jupyter-config-data" type="application/json">
    {"allow_hidden_files": false, "appName": "Jupyter Notebook", "appNamespace": "notebook", "appSettingsDir": "D:/JN/share/jupyter/lab/settings", "appUrl": "/lab", "appVersion": "7.0.8", "baseUrl": "/", "buildAvailable": true, "buildCheck": true, "cacheFiles": true, "copyAbsolutePath": false, "devMode": false, "disabledExtensions": [], "exposeAppInBrowser": false, "extensionManager": {"can_install": true, "install_path": "D:\\JN", "name": "PyPI"}, "extraLabextensionsPath": [], "federated_extensions": [{"extension": "./extension", "load": "static/remoteEntry.66500334d7b36213676e.js", "mimeExtension": "./mimeExtension", "name": "jupyterlab-plotly"}, {"extension": "./extension", "load": "static/remoteEntry.0dca0b46350f0c25c608.js", "name": "@jupyter-notebook/lab-extension", "style": "./style"}, {"extension": "./extension", "load": "static/remoteEntry.a37e37c87d212fe85e13.js", "name": "@jupyter-widgets/jupyterlab-manager"}, {"extension": "./extension", "load": "static/remoteEntry.cfbccb113f4c7c1d65fe.js", "name": "@lckr/jupyterlab_variableinspector", "style": "./style"}, {"extension": "./extension", "load": "static/remoteEntry.011187800436390ae91a.js", "name": "@pyviz/jupyterlab_pyviz", "style": "./style"}], "frontendUrl": "/", "fullAppUrl": "/lab", "fullLabextensionsUrl": "/lab/extensions", "fullLicensesUrl": "/lab/api/licenses", "fullListingsUrl": "/lab/api/listings", "fullMathjaxUrl": "https://cdnjs.cloudflare.com/ajax/libs/mathjax/2.7.7/MathJax.js", "fullSettingsUrl": "/lab/api/settings", "fullStaticUrl": "/static/notebook", "fullThemesUrl": "/lab/api/themes", "fullTranslationsApiUrl": "/lab/api/translations", "fullTreeUrl": "/lab/tree", "fullWorkspacesApiUrl": "/lab/api/workspaces", "ignorePlugins": [], "jupyterConfigDir": "C:\\Users\\Anton Bozhidarov\\.jupyter", "labextensionsPath": ["C:\\Users\\Anton Bozhidarov\\AppData\\Roaming\\jupyter\\labextensions", "C:\\Users\\Anton Bozhidarov\\AppData\\Roaming\\Python\\share\\jupyter\\labextensions", "D:\\JN\\share\\jupyter\\labextensions", "C:\\ProgramData\\jupyter\\labextensions"], "labextensionsUrl": "/lab/extensions", "licensesUrl": "/lab/api/licenses", "listingsUrl": "/lab/api/listings", "mathjaxConfig": "TeX-AMS_HTML-full,Safe", "mode": "multiple-document", "nbclassic_enabled": false, "news": {"disabled": false}, "notebookPage": "notebooks", "notebookStartsKernel": true, "notebookVersion": "[2, 10, 0]", "preferredPath": "/", "quitButton": true, "rootUri": "file:///c:/Users/Anton%20Bozhidarov", "schemasDir": "D:/JN/share/jupyter/lab/schemas", "serverRoot": "C:/Users/Anton Bozhidarov", "settingsUrl": "/lab/api/settings", "staticDir": "D:/JN/Lib/site-packages/notebook/static", "store_id": 0, "templatesDir": "D:/JN/Lib/site-packages/notebook/templates", "terminalsAvailable": true, "themesDir": "D:/JN/share/jupyter/lab/themes", "themesUrl": "/lab/api/themes", "token": "9da37916bd0b52adfe6a61c0ab2fa2045e5086815e4c5261", "translationsApiUrl": "/lab/api/translations", "treePath": "", "treeUrl": "/lab/tree", "userSettingsDir": "C:/Users/Anton Bozhidarov/.jupyter/lab/user-settings", "virtualDocumentsUri": "file:///c:/Users/Anton%20Bozhidarov/.virtual_documents", "workspace": "default", "workspacesApiUrl": "/lab/api/workspaces", "workspacesDir": "C:/Users/Anton Bozhidarov/.jupyter/lab/workspaces", "wsUrl": ""}
  </script>
  <script src="/static/notebook/bundle.js" main="index"></script>

  <script type="text/javascript">
    /* Remove token from URL. */
    (function () {
      var parsedUrl = new URL(window.location.href);
      if (parsedUrl.searchParams.get('token')) {
        parsedUrl.searchParams.delete('token');
        window.history.replaceState({ }, '', parsedUrl.href);
      }
    })();
  </script>

</body>
</html>